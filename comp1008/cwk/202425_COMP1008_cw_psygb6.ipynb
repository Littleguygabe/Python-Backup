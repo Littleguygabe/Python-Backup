{
 "cells": [
  {
   "cell_type": "markdown",
   "metadata": {},
   "source": [
    "# COMP1008 2024/25 Coursework - Wine Quality Prediction with Machine Learning\n",
    "\n",
    "#### **Student Name**: Gabriel Bridger\n",
    "#### **Student ID**: 2086810 \n",
    "\n",
    "## Task description\n",
    "\n",
    "**Main Task**: Utilizing the provided Red Wine Quality dataset, build a Linear Regression Model and another Machine Learning Model of your choice to predict wine quality. Employ appropriate methods from the `pandas`, `matplotlib`, and `sklearn` libraries to analyze and process the dataset for building predictive models.\n",
    "\n",
    "\n",
    "\n",
    "**Format**: Use this Jupyter Notebook as a template to write your report in `Markdown` cells, supported by your source code in Code cells. Ensure your code produces the corresponding plots or results addressing the questions. Rename this .ipynb file to `202425_COMP1008_cw_XXX.ipynb`, where XXX is your username (e.g., psxyz), and submit it to Moodle by <b><font color = \"red\">24 March, 3pm</font></b>.\n",
    "\n",
    "**Marks**: The coursework is worth a total of 100 marks (accounting for 25% of the COMP1008 module grade). Marks will be awarded based on your understanding of machine learning theories, the informativeness and presentation of your code, visualizations, results (e.g., code comments, necessary labels in plots), self-learning ability in solving the specific problem, as well as, how succinct, concise, and clear is your report writing.\n",
    "\n",
    "Please check the detailed instructions at the end of this template file."
   ]
  },
  {
   "cell_type": "markdown",
   "metadata": {
    "tags": []
   },
   "source": [
    "<div class=\"alert alert-success\" style=\"text-align:left;\">\n",
    "<h2>Question 1. Prediction Model 1 - Linear Regression Model<span style=\"float:right;\">[50 marks]</span></h2></div>"
   ]
  },
  {
   "cell_type": "markdown",
   "metadata": {},
   "source": [
    "#### Question 1a <span style=\"color:red\">(5 marks)</span> \n",
    "**TASK**: Briefly explain why the Red Wine Quality dataset is suitable for linear regression analysis.\n",
    "- Identify at least 3 characteristics that make this dataset appropriate for regression.\n",
    "- Use 3 bullet points (one for each characteristics) to present your answer concisely.\n",
    "- Your explanation should reflect your understanding of the linear regression model."
   ]
  },
  {
   "cell_type": "markdown",
   "metadata": {},
   "source": [
    "<b>Q1a Answer</b>: Your answer here"
   ]
  },
  {
   "cell_type": "code",
   "execution_count": null,
   "metadata": {},
   "outputs": [],
   "source": [
    "# Add you answer here!\n",
    "# dataset has continuous numerical values\n",
    "#   allows values to be plotted and analysed to create an equation for the line of linear regression\n",
    "# has a clear target value\n",
    "#   'quality' is a numerical value that represents how good the wine is so we can calculate a clear loss from predicted vs actual output\n",
    "# likely linearly related\n",
    "#   lots of the attributes are potentially linearly rated so are a good fit for inputs in a linear regression"
   ]
  },
  {
   "cell_type": "markdown",
   "metadata": {},
   "source": [
    "---"
   ]
  },
  {
   "cell_type": "markdown",
   "metadata": {},
   "source": [
    "#### Question 1b <span style=\"color:red\">(15 marks)</span>\n",
    "\n",
    "**TASK**: Analyze the dataset using appropriate methods from the `pandas` and/or `matplotlib` libraries. \n",
    "- Identify potential issues with the current dataset, specify which part(s) of the dataset are affected. Explain what could go wrong if the data is not properly pre-processed.\n",
    "- Provide at least 2 short-code solutions demonstrating how you analyze these issues.  \n",
    "- Briefly explain how each code snippet helps evaluate data quality issues.\n"
   ]
  },
  {
   "cell_type": "markdown",
   "metadata": {},
   "source": [
    "<b>Q1b answer</b>: Your answer here"
   ]
  },
  {
   "cell_type": "code",
   "execution_count": null,
   "metadata": {
    "scrolled": true
   },
   "outputs": [],
   "source": [
    "# Your code here\n"
   ]
  },
  {
   "cell_type": "markdown",
   "metadata": {},
   "source": [
    "---"
   ]
  },
  {
   "cell_type": "markdown",
   "metadata": {},
   "source": [
    "#### Question 1c <span style=\"color:red\">(20 marks)</span>\n",
    "**TASK**: Apply appropriate data preprocessing techniques to address the issues identified in Question 1b.\n",
    "- Provide a code solution that resolves the identified data issue(s).\n",
    "- Briefly explain the methods and parameters used in your solution. Ensure your explanation clearly justifies how these techniques improve data quality and suitability for analysis.\n"
   ]
  },
  {
   "cell_type": "markdown",
   "metadata": {},
   "source": [
    "<b>Q1c answer</b>: "
   ]
  },
  {
   "cell_type": "code",
   "execution_count": null,
   "metadata": {},
   "outputs": [],
   "source": [
    "# Your code here\n"
   ]
  },
  {
   "cell_type": "markdown",
   "metadata": {},
   "source": [
    "---"
   ]
  },
  {
   "cell_type": "markdown",
   "metadata": {},
   "source": [
    "#### Question 1d <span style=\"color:red\">(10 marks)</span>\n",
    "\n",
    "**TASK**: Train and evaluate a Linear Regression model using the preprocessed dataset.   \n",
    "- Print the model's weights.  \n",
    "- Print the model's accuracy. \n",
    "    - Evaluate the model using at least three different metrics.\n",
    "    - Briefly discuss the advantages of each metric in assessing model performance.\n"
   ]
  },
  {
   "cell_type": "markdown",
   "metadata": {},
   "source": [
    "<b>Q1d answer</b>: "
   ]
  },
  {
   "cell_type": "code",
   "execution_count": null,
   "metadata": {},
   "outputs": [],
   "source": [
    "# Your code here\n"
   ]
  },
  {
   "cell_type": "markdown",
   "metadata": {},
   "source": [
    "---"
   ]
  },
  {
   "cell_type": "markdown",
   "metadata": {
    "tags": []
   },
   "source": [
    "<div class=\"alert alert-success\" style=\"text-align:left;\"><h2>Question 2. Prediction Model 2<span style=\"float:right;\">[20 marks]</span></h2></div>"
   ]
  },
  {
   "cell_type": "markdown",
   "metadata": {},
   "source": [
    "#### Question 2a <span style=\"color:red\">(10 marks)</span>\n",
    "\n",
    "**TASK**: Build a different machine learning model for the same prediction task.\n",
    "- Choose a model covered in the lectures or explain your choice of a different method. If you choose a different method, provide at at least two arguments to justify your choice compared to the ones covered in the lectures. \n",
    "- Specify which model you selected and why. \n",
    "- List the key parameters of your chosen model (Model 2).\n",
    "- Provide a code implementation for the selected method."
   ]
  },
  {
   "cell_type": "markdown",
   "metadata": {},
   "source": [
    "<b>Q2a answer</b>: "
   ]
  },
  {
   "cell_type": "code",
   "execution_count": null,
   "metadata": {},
   "outputs": [],
   "source": [
    "# Your code here\n"
   ]
  },
  {
   "cell_type": "markdown",
   "metadata": {},
   "source": [
    "---"
   ]
  },
  {
   "cell_type": "markdown",
   "metadata": {},
   "source": [
    "### Question 2b <span style=\"color:red\">(10 marks)</span>\n",
    "**TASK**: Evaluate the performance of your new model and compare it to Prediction Model 1.\n",
    "- Analyze whether the new model performs better or worse and explain why.\n",
    "    - Base your evaluation on the same metrics used in Question 1d).\n",
    "- Include one plot visually comparing the performance of both models.\n",
    "- Provide a brief textual explanation interpreting the results."
   ]
  },
  {
   "cell_type": "markdown",
   "metadata": {},
   "source": [
    "<b>Q2b answer</b>: "
   ]
  },
  {
   "cell_type": "code",
   "execution_count": null,
   "metadata": {
    "tags": []
   },
   "outputs": [],
   "source": [
    "# Your code here\n"
   ]
  },
  {
   "cell_type": "markdown",
   "metadata": {},
   "source": [
    "---"
   ]
  },
  {
   "cell_type": "markdown",
   "metadata": {},
   "source": [
    "<div class=\"alert alert-success\" style=\"text-align:left;\"><h2>Question 3. Comparison and Improvement<span style=\"float:right;\">[30 marks]</span></h2></div>"
   ]
  },
  {
   "cell_type": "markdown",
   "metadata": {
    "tags": []
   },
   "source": [
    "#### Question 3a <span style=\"color:red\">(15 marks)</span>\n",
    "**TASK**: Analyze the impact of removing the least important feature from Prediction Model 1.\n",
    "- Identify and remove the least important feature. \n",
    "- Retrain the Linear Regression model and evaluate its performance. \n",
    "- Compare the results before and after feature removal.\n",
    "- Provide a code implementation and a justification explaining the impact on model performance.\n"
   ]
  },
  {
   "cell_type": "markdown",
   "metadata": {},
   "source": [
    "<b>Q3a answer</b>:"
   ]
  },
  {
   "cell_type": "code",
   "execution_count": null,
   "metadata": {
    "scrolled": true
   },
   "outputs": [],
   "source": [
    "# Your code here\n"
   ]
  },
  {
   "cell_type": "markdown",
   "metadata": {},
   "source": [
    "---"
   ]
  },
  {
   "cell_type": "markdown",
   "metadata": {},
   "source": [
    "#### Question 3b <span style=\"color:red\">(15 marks)</span>\n",
    "**TASK**: Based on your observations, suggest strategies for improving future models when predicting on new data.\n",
    "- Discuss potential improvements. \n",
    "\n",
    "<b>Hint</b>: based on relevant analysis, feature selection, feature scaling and data processing (e.g. resolve imbalanced samples, errors and outliers, etc.) could all potentially improve the model by reducing training time, fixing overfitting and improving interpretability, etc. \n",
    "You can also explore external resources for other potential approaches or techniques.<br>\n",
    "\n",
    "<b>Note</b>: Coding is optional here, but your answers should be supported by relevant analysis or justifications."
   ]
  },
  {
   "cell_type": "markdown",
   "metadata": {},
   "source": [
    "<b>Q3b answer</b>:"
   ]
  },
  {
   "cell_type": "code",
   "execution_count": null,
   "metadata": {},
   "outputs": [],
   "source": [
    "# Add your answer here"
   ]
  },
  {
   "cell_type": "markdown",
   "metadata": {},
   "source": [
    "---"
   ]
  },
  {
   "cell_type": "markdown",
   "metadata": {},
   "source": [
    "## Appendix. Coursework Instructions\n",
    "\n",
    "<b>Coursework Support</b>:\n",
    "- COMP1008 computing tutorials and exercises on data processing and machine learning models on different example problems\n",
    "- Example code building and analysing machine learning models in COMP1008 lectures slides on 'Machine learning'\n",
    "- In the computing sessions, Q&A support for developing .ipynb projects\n",
    "- In Teams channel 'COMP1008 2024/25 / Questions': support of common questions\n",
    "\n",
    "<b>Marks</b>: in total 100 marks (count for 25% in COMP1008), awarded on the basis of:\n",
    "- knowledge and understanding on the theories covered in lectures when answering the questions in the Jupyter Notebook report\n",
    "- how informative and well presented your code, visualisations and results are (e.g. necessary labels in plots)\n",
    "- self-learning ability making use of tutorial materials and online resources\n",
    "- problem solving skills to obtain the answers and results for the specific dataset\n",
    "- concise report with key details, e.g. parameters, data, etc. for others to repeat your methods and obtain the same results.\n",
    "\n",
    "For more information of COMP1008 assessment please refer to the coursework issue in Moodle ('Course Content / Assessment')."
   ]
  },
  {
   "cell_type": "markdown",
   "metadata": {},
   "source": [
    "<b>Format</b>:\n",
    "- One single .ipynb file named 202425_COMP1008_cw_XXX.ipynb, where XXX is your username (e.g. psxyz)\n",
    "- The .ipynb file should include your code and answers, using this given .ipynb template (please add cells as needed)\n",
    "- You could use additional Python libraries as you wish, in addition to the ones demonstrated in the computing sessions\n",
    "- There are multiple ways using different methods to complete the tasks. These are fine as long as all answers and analysis are supported by the code implemented in Jupyter Notebook, not by using other means (e.g. operations in Excel, or by using other languages, etc.).\n",
    "\n",
    "<b>Submission</b>: \n",
    "- Deadline: <b><font color = \"red\">24 March, 3pm</font></b>.\n",
    "- Late submission leads to a 5% deduction of the coursework on each weekday. Work submitted one week late will receive a 0 for the coursework.\n",
    "- Method: in Moodle submit a single .ipynb file named 202425_COMP1008_cw_XXX.ipynb\n",
    "- If you can’t submit your coursework on time due to ECs, please contact Student Services and your personal tutor ASAP"
   ]
  },
  {
   "cell_type": "markdown",
   "metadata": {
    "tags": []
   },
   "source": [
    "<b>Note: Plagiarism vs. Group Discussions</b> \n",
    "\n",
    "As you should know, plagiarism is completely unacceptable and will be dealt with according to University's standard policies.<br>\n",
    "Students are encouraged to have only general discussions on the theory (not the specific questions) when completing the coursework.<br>\n",
    "It is important that when you actually do your coursework and write the answers, you do it individually.<br>\n",
    "Do NOT, under any circumstances, share your report, code or figures, etc. with anyone else."
   ]
  }
 ],
 "metadata": {
  "kernelspec": {
   "display_name": "Python 3 (ipykernel)",
   "language": "python",
   "name": "python3"
  },
  "language_info": {
   "codemirror_mode": {
    "name": "ipython",
    "version": 3
   },
   "file_extension": ".py",
   "mimetype": "text/x-python",
   "name": "python",
   "nbconvert_exporter": "python",
   "pygments_lexer": "ipython3",
   "version": "3.12.7"
  }
 },
 "nbformat": 4,
 "nbformat_minor": 4
}
